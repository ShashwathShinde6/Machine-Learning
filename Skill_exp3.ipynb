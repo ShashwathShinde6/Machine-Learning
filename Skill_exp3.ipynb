{
  "nbformat": 4,
  "nbformat_minor": 0,
  "metadata": {
    "colab": {
      "provenance": [],
      "authorship_tag": "ABX9TyNdSPLDhaO6fh4bdzOdcmar",
      "include_colab_link": true
    },
    "kernelspec": {
      "name": "python3",
      "display_name": "Python 3"
    },
    "language_info": {
      "name": "python"
    }
  },
  "cells": [
    {
      "cell_type": "markdown",
      "metadata": {
        "id": "view-in-github",
        "colab_type": "text"
      },
      "source": [
        "<a href=\"https://colab.research.google.com/github/ShashwathShinde6/Machine-Learning/blob/master/Skill_exp3.ipynb\" target=\"_parent\"><img src=\"https://colab.research.google.com/assets/colab-badge.svg\" alt=\"Open In Colab\"/></a>"
      ]
    },
    {
      "cell_type": "code",
      "source": [
        "import pandas as pd\n",
        "\n",
        "df = pd.read_csv('/winequality-red.csv')"
      ],
      "metadata": {
        "id": "Sd3xyzLHVs-z"
      },
      "execution_count": null,
      "outputs": []
    },
    {
      "cell_type": "code",
      "source": [
        "import pandas as pd\n",
        "from sklearn.preprocessing import LabelEncoder\n",
        "\n",
        "\n",
        "data = {\n",
        "    'fixed acidity': [7.4, 7.8, 7.8],\n",
        "    'volatile acidity': [0.7, 0.88, 0.76],\n",
        "    'citric acid': [0.0, 0.0, 0.04],\n",
        "    'residual sugar': [1.9, 2.6, 2.3],\n",
        "    'quality': ['high', 'medium', 'low']  # Example categorical 'quality'\n",
        "}\n",
        "\n",
        "df = pd.DataFrame(data)\n",
        "\n",
        "\n",
        "label_encoder = LabelEncoder()\n",
        "\n",
        "\n",
        "df['quality'] = label_encoder.fit_transform(df['quality'])\n",
        "\n",
        "print(df)\n"
      ],
      "metadata": {
        "colab": {
          "base_uri": "https://localhost:8080/"
        },
        "id": "tJ0VIrSjWU2k",
        "outputId": "f0b059af-641c-4491-d798-8f7d309ebd4f"
      },
      "execution_count": null,
      "outputs": [
        {
          "output_type": "stream",
          "name": "stdout",
          "text": [
            "   fixed acidity  volatile acidity  citric acid  residual sugar  quality\n",
            "0            7.4              0.70         0.00             1.9        0\n",
            "1            7.8              0.88         0.00             2.6        2\n",
            "2            7.8              0.76         0.04             2.3        1\n"
          ]
        }
      ]
    },
    {
      "cell_type": "code",
      "source": [
        "import pandas as pd\n",
        "\n",
        "\n",
        "data = {\n",
        "    'fixed acidity': [7.4, 7.8, 7.8],\n",
        "    'volatile acidity': [0.7, 0.88, 0.76],\n",
        "    'citric acid': [0.0, 0.0, 0.04],\n",
        "    'residual sugar': [1.9, 2.6, 2.3],\n",
        "    'color': ['Red', 'White', 'Red']  # Categorical feature\n",
        "}\n",
        "\n",
        "df = pd.DataFrame(data)\n",
        "\n",
        "# One-Hot Encoding using pandas\n",
        "df_encoded = pd.get_dummies(df, columns=['color'])\n",
        "\n",
        "print(df_encoded)\n"
      ],
      "metadata": {
        "colab": {
          "base_uri": "https://localhost:8080/"
        },
        "id": "tqIc09khWvfD",
        "outputId": "0afb5abf-fb11-4192-d4e3-f1b3411a4f72"
      },
      "execution_count": null,
      "outputs": [
        {
          "output_type": "stream",
          "name": "stdout",
          "text": [
            "   fixed acidity  volatile acidity  citric acid  residual sugar  color_Red  \\\n",
            "0            7.4              0.70         0.00             1.9       True   \n",
            "1            7.8              0.88         0.00             2.6      False   \n",
            "2            7.8              0.76         0.04             2.3       True   \n",
            "\n",
            "   color_White  \n",
            "0        False  \n",
            "1         True  \n",
            "2        False  \n"
          ]
        }
      ]
    },
    {
      "cell_type": "code",
      "source": [
        "import pandas as pd\n",
        "from sklearn.preprocessing import OrdinalEncoder\n",
        "\n",
        "# Example wine dataset with ordinal 'quality' column (replace this with your dataset)\n",
        "data = {\n",
        "    'fixed acidity': [7.4, 7.8, 7.8],\n",
        "    'volatile acidity': [0.7, 0.88, 0.76],\n",
        "    'citric acid': [0.0, 0.0, 0.04],\n",
        "    'residual sugar': [1.9, 2.6, 2.3],\n",
        "    'quality': ['High', 'Medium', 'Low']  # Ordinal categorical feature\n",
        "}\n",
        "\n",
        "df = pd.DataFrame(data)\n",
        "\n",
        "quality_order = ['Low', 'Medium', 'High']\n",
        "\n",
        "ordinal_encoder = OrdinalEncoder(categories=[quality_order])\n",
        "\n",
        "df['quality'] = ordinal_encoder.fit_transform(df[['quality']])\n",
        "\n",
        "# Show the transformed dataset\n",
        "print(df)\n"
      ],
      "metadata": {
        "colab": {
          "base_uri": "https://localhost:8080/"
        },
        "id": "xwRkUjkxW79K",
        "outputId": "2972ca7c-86b9-4816-ad84-a57e3a0262f7"
      },
      "execution_count": null,
      "outputs": [
        {
          "output_type": "stream",
          "name": "stdout",
          "text": [
            "   fixed acidity  volatile acidity  citric acid  residual sugar  quality\n",
            "0            7.4              0.70         0.00             1.9      2.0\n",
            "1            7.8              0.88         0.00             2.6      1.0\n",
            "2            7.8              0.76         0.04             2.3      0.0\n"
          ]
        }
      ]
    },
    {
      "cell_type": "code",
      "source": [
        "import pandas as pd\n",
        "\n",
        "# Example wine dataset with a 'color' column (categorical feature) and 'quality' as the target\n",
        "data = {\n",
        "    'fixed acidity': [7.4, 7.8, 7.8, 7.3],\n",
        "    'volatile acidity': [0.7, 0.88, 0.76, 0.85],\n",
        "    'citric acid': [0.0, 0.0, 0.04, 0.01],\n",
        "    'residual sugar': [1.9, 2.6, 2.3, 1.8],\n",
        "    'color': ['Red', 'White', 'Red', 'White'],  # Categorical feature\n",
        "    'quality': [6, 5, 7, 6]  # Target variable (wine quality)\n",
        "}\n",
        "\n",
        "df = pd.DataFrame(data)\n",
        "target_mean = df.groupby('color')['quality'].mean()\n",
        "\n",
        "\n",
        "df['color_encoded'] = df['color'].map(target_mean)\n",
        "\n",
        "# Show the transformed dataset\n",
        "print(df)\n"
      ],
      "metadata": {
        "colab": {
          "base_uri": "https://localhost:8080/"
        },
        "id": "Pycy-Z6wYOs9",
        "outputId": "34002637-5d8e-4850-cc7e-a9009a672be9"
      },
      "execution_count": null,
      "outputs": [
        {
          "output_type": "stream",
          "name": "stdout",
          "text": [
            "   fixed acidity  volatile acidity  citric acid  residual sugar  color  \\\n",
            "0            7.4              0.70         0.00             1.9    Red   \n",
            "1            7.8              0.88         0.00             2.6  White   \n",
            "2            7.8              0.76         0.04             2.3    Red   \n",
            "3            7.3              0.85         0.01             1.8  White   \n",
            "\n",
            "   quality  color_encoded  \n",
            "0        6            6.5  \n",
            "1        5            5.5  \n",
            "2        7            6.5  \n",
            "3        6            5.5  \n"
          ]
        }
      ]
    },
    {
      "cell_type": "code",
      "source": [
        "import pandas as pd\n",
        "\n",
        "# categorical feature\n",
        "data = {\n",
        "    'fixed acidity': [7.4, 7.8, 7.8, 7.3],\n",
        "    'volatile acidity': [0.7, 0.88, 0.76, 0.85],\n",
        "    'citric acid': [0.0, 0.0, 0.04, 0.01],\n",
        "    'residual sugar': [1.9, 2.6, 2.3, 1.8],\n",
        "    'color': ['Red', 'Blue', 'Red', 'Green'],  # Categorical feature\n",
        "}\n",
        "\n",
        "df = pd.DataFrame(data)\n",
        "\n",
        "\n",
        "frequency_encoding = df['color'].value_counts()\n",
        "\n",
        "\n",
        "df['color_encoded'] = df['color'].map(frequency_encoding)\n",
        "\n",
        "# Show the transformed dataset\n",
        "print(df)\n"
      ],
      "metadata": {
        "colab": {
          "base_uri": "https://localhost:8080/"
        },
        "id": "ndj4x7IuYmpr",
        "outputId": "02d88f7f-7b69-4a71-bd04-ad3532aecf3d"
      },
      "execution_count": null,
      "outputs": [
        {
          "output_type": "stream",
          "name": "stdout",
          "text": [
            "   fixed acidity  volatile acidity  citric acid  residual sugar  color  \\\n",
            "0            7.4              0.70         0.00             1.9    Red   \n",
            "1            7.8              0.88         0.00             2.6   Blue   \n",
            "2            7.8              0.76         0.04             2.3    Red   \n",
            "3            7.3              0.85         0.01             1.8  Green   \n",
            "\n",
            "   color_encoded  \n",
            "0              2  \n",
            "1              1  \n",
            "2              2  \n",
            "3              1  \n"
          ]
        }
      ]
    }
  ]
}