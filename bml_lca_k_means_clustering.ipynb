{
  "nbformat": 4,
  "nbformat_minor": 0,
  "metadata": {
    "colab": {
      "provenance": [],
      "authorship_tag": "ABX9TyM+VOKcPUzENHjPpDCuMkzx",
      "include_colab_link": true
    },
    "kernelspec": {
      "name": "python3",
      "display_name": "Python 3"
    },
    "language_info": {
      "name": "python"
    }
  },
  "cells": [
    {
      "cell_type": "markdown",
      "metadata": {
        "id": "view-in-github",
        "colab_type": "text"
      },
      "source": [
        "<a href=\"https://colab.research.google.com/github/ShashwathShinde6/Machine-Learning/blob/master/bml_lca_k_means_clustering.ipynb\" target=\"_parent\"><img src=\"https://colab.research.google.com/assets/colab-badge.svg\" alt=\"Open In Colab\"/></a>"
      ]
    },
    {
      "cell_type": "markdown",
      "source": [
        "# **BML LCA-3**"
      ],
      "metadata": {
        "id": "5uhg15Sotenc"
      }
    },
    {
      "cell_type": "code",
      "execution_count": null,
      "metadata": {
        "id": "ir6ADi8tNT-Y",
        "colab": {
          "base_uri": "https://localhost:8080/"
        },
        "outputId": "759b16bc-831d-4163-ccc9-1b978e80ba52"
      },
      "outputs": [
        {
          "output_type": "stream",
          "name": "stdout",
          "text": [
            "Clustering Accuracy: 0.97\n"
          ]
        }
      ],
      "source": [
        "# Import required libraries\n",
        "import numpy as np\n",
        "import pandas as pd\n",
        "from sklearn.datasets import load_wine\n",
        "from sklearn.cluster import KMeans\n",
        "from sklearn.metrics import accuracy_score\n",
        "from scipy.stats import mode\n",
        "from sklearn.preprocessing import StandardScaler\n",
        "from sklearn.decomposition import PCA\n",
        "\n",
        "# Load the Wine dataset\n",
        "data = load_wine()\n",
        "X = data.data\n",
        "y = data.target\n",
        "\n",
        "# Standardize the features\n",
        "scaler = StandardScaler()\n",
        "X_scaled = scaler.fit_transform(X)\n",
        "\n",
        "# Optional: reduce dimensionality for better clustering (not required)\n",
        "pca = PCA(n_components=2)\n",
        "X_pca = pca.fit_transform(X_scaled)\n",
        "\n",
        "# Apply KMeans clustering\n",
        "kmeans = KMeans(n_clusters=3, random_state=42)\n",
        "clusters = kmeans.fit_predict(X_scaled)\n",
        "\n",
        "# Map predicted clusters to true labels using mode\n",
        "# For each cluster, assign the most common true label\n",
        "labels = np.zeros_like(clusters)\n",
        "for i in range(3):\n",
        "    mask = (clusters == i)\n",
        "    labels[mask] = mode(y[mask], keepdims=False).mode\n",
        "\n",
        "# Calculate accuracy\n",
        "accuracy = accuracy_score(y, labels)\n",
        "print(f\"Clustering Accuracy: {accuracy:.2f}\")\n"
      ]
    },
    {
      "cell_type": "markdown",
      "source": [
        "# Data Loading"
      ],
      "metadata": {
        "id": "UXqJT40ztmrR"
      }
    },
    {
      "cell_type": "code",
      "source": [
        "# Import pandas\n",
        "import pandas as pd\n",
        "\n",
        "# Load the Wine dataset from a CSV file (replace with your file path)\n",
        "wine_data = pd.read_csv('/content/wine.data')  # Replace with your file path\n",
        "\n",
        "# Display the first few rows to check if data is loaded correctly\n",
        "print(\"Wine Dataset (First 5 rows):\")\n",
        "print(wine_data.head())\n"
      ],
      "metadata": {
        "colab": {
          "base_uri": "https://localhost:8080/"
        },
        "id": "9vGMUboptroC",
        "outputId": "7e6276ed-4a81-49dd-bdde-ba9b128bd2c5"
      },
      "execution_count": null,
      "outputs": [
        {
          "output_type": "stream",
          "name": "stdout",
          "text": [
            "Wine Dataset (First 5 rows):\n",
            "   1  14.23  1.71  2.43  15.6  127   2.8  3.06   .28  2.29  5.64  1.04  3.92  \\\n",
            "0  1  13.20  1.78  2.14  11.2  100  2.65  2.76  0.26  1.28  4.38  1.05  3.40   \n",
            "1  1  13.16  2.36  2.67  18.6  101  2.80  3.24  0.30  2.81  5.68  1.03  3.17   \n",
            "2  1  14.37  1.95  2.50  16.8  113  3.85  3.49  0.24  2.18  7.80  0.86  3.45   \n",
            "3  1  13.24  2.59  2.87  21.0  118  2.80  2.69  0.39  1.82  4.32  1.04  2.93   \n",
            "4  1  14.20  1.76  2.45  15.2  112  3.27  3.39  0.34  1.97  6.75  1.05  2.85   \n",
            "\n",
            "   1065  \n",
            "0  1050  \n",
            "1  1185  \n",
            "2  1480  \n",
            "3   735  \n",
            "4  1450  \n"
          ]
        }
      ]
    },
    {
      "cell_type": "markdown",
      "source": [
        "# Data Preprocessing"
      ],
      "metadata": {
        "id": "R-qg3Nact5aq"
      }
    },
    {
      "cell_type": "code",
      "source": [
        "# Import the necessary libraries for exploration\n",
        "import pandas as pd\n",
        "from sklearn.preprocessing import StandardScaler\n",
        "\n",
        "# Convert the Wine dataset into a DataFrame for easier exploration\n",
        "wine_df = pd.DataFrame(wine.data, columns=wine.feature_names)\n",
        "\n",
        "# Add the target to the DataFrame (class labels)\n",
        "wine_df['target'] = wine.target\n",
        "\n",
        "# Show basic statistics and data overview\n",
        "print(\"Dataset Description (Summary statistics):\")\n",
        "print(wine_df.describe())  # Get the summary statistics of the data\n",
        "\n",
        "# Check the shape of the data (rows and columns)\n",
        "print(\"\\nDataset Shape (rows, columns):\")\n",
        "print(wine_df.shape)\n",
        "\n",
        "# Check for any missing values\n",
        "print(\"\\nCheck for Missing Values:\")\n",
        "print(wine_df.isnull().sum())  # This will show the count of missing values per column\n",
        "\n",
        "# Check for any duplicate rows in the dataset\n",
        "print(\"\\nCheck for Duplicates:\")\n",
        "print(wine_df.duplicated().sum())  # This will show the number of duplicate rows\n",
        "\n",
        "# Check basic info about the dataset\n",
        "print(\"\\nDataset Info:\")\n",
        "print(wine_df.info())  # This will give you the types of each column and memory usage\n",
        "\n",
        "# Now, Standardize the features\n",
        "scaler = StandardScaler()\n",
        "X_scaled = scaler.fit_transform(wine_df.drop(columns='target'))  # Don't scale the target\n",
        "\n",
        "# Show the first few scaled features\n",
        "print(\"\\nScaled Features (First 5 rows):\")\n",
        "print(X_scaled[:5])\n"
      ],
      "metadata": {
        "colab": {
          "base_uri": "https://localhost:8080/"
        },
        "id": "zGnaOGQNu1Ti",
        "outputId": "935a5e7b-6bd0-4d62-fd3d-c7fb12e6630a"
      },
      "execution_count": null,
      "outputs": [
        {
          "output_type": "stream",
          "name": "stdout",
          "text": [
            "Dataset Description (Summary statistics):\n",
            "          alcohol  malic_acid         ash  alcalinity_of_ash   magnesium  \\\n",
            "count  178.000000  178.000000  178.000000         178.000000  178.000000   \n",
            "mean    13.000618    2.336348    2.366517          19.494944   99.741573   \n",
            "std      0.811827    1.117146    0.274344           3.339564   14.282484   \n",
            "min     11.030000    0.740000    1.360000          10.600000   70.000000   \n",
            "25%     12.362500    1.602500    2.210000          17.200000   88.000000   \n",
            "50%     13.050000    1.865000    2.360000          19.500000   98.000000   \n",
            "75%     13.677500    3.082500    2.557500          21.500000  107.000000   \n",
            "max     14.830000    5.800000    3.230000          30.000000  162.000000   \n",
            "\n",
            "       total_phenols  flavanoids  nonflavanoid_phenols  proanthocyanins  \\\n",
            "count     178.000000  178.000000            178.000000       178.000000   \n",
            "mean        2.295112    2.029270              0.361854         1.590899   \n",
            "std         0.625851    0.998859              0.124453         0.572359   \n",
            "min         0.980000    0.340000              0.130000         0.410000   \n",
            "25%         1.742500    1.205000              0.270000         1.250000   \n",
            "50%         2.355000    2.135000              0.340000         1.555000   \n",
            "75%         2.800000    2.875000              0.437500         1.950000   \n",
            "max         3.880000    5.080000              0.660000         3.580000   \n",
            "\n",
            "       color_intensity         hue  od280/od315_of_diluted_wines      proline  \\\n",
            "count       178.000000  178.000000                    178.000000   178.000000   \n",
            "mean          5.058090    0.957449                      2.611685   746.893258   \n",
            "std           2.318286    0.228572                      0.709990   314.907474   \n",
            "min           1.280000    0.480000                      1.270000   278.000000   \n",
            "25%           3.220000    0.782500                      1.937500   500.500000   \n",
            "50%           4.690000    0.965000                      2.780000   673.500000   \n",
            "75%           6.200000    1.120000                      3.170000   985.000000   \n",
            "max          13.000000    1.710000                      4.000000  1680.000000   \n",
            "\n",
            "           target  \n",
            "count  178.000000  \n",
            "mean     0.938202  \n",
            "std      0.775035  \n",
            "min      0.000000  \n",
            "25%      0.000000  \n",
            "50%      1.000000  \n",
            "75%      2.000000  \n",
            "max      2.000000  \n",
            "\n",
            "Dataset Shape (rows, columns):\n",
            "(178, 14)\n",
            "\n",
            "Check for Missing Values:\n",
            "alcohol                         0\n",
            "malic_acid                      0\n",
            "ash                             0\n",
            "alcalinity_of_ash               0\n",
            "magnesium                       0\n",
            "total_phenols                   0\n",
            "flavanoids                      0\n",
            "nonflavanoid_phenols            0\n",
            "proanthocyanins                 0\n",
            "color_intensity                 0\n",
            "hue                             0\n",
            "od280/od315_of_diluted_wines    0\n",
            "proline                         0\n",
            "target                          0\n",
            "dtype: int64\n",
            "\n",
            "Check for Duplicates:\n",
            "0\n",
            "\n",
            "Dataset Info:\n",
            "<class 'pandas.core.frame.DataFrame'>\n",
            "RangeIndex: 178 entries, 0 to 177\n",
            "Data columns (total 14 columns):\n",
            " #   Column                        Non-Null Count  Dtype  \n",
            "---  ------                        --------------  -----  \n",
            " 0   alcohol                       178 non-null    float64\n",
            " 1   malic_acid                    178 non-null    float64\n",
            " 2   ash                           178 non-null    float64\n",
            " 3   alcalinity_of_ash             178 non-null    float64\n",
            " 4   magnesium                     178 non-null    float64\n",
            " 5   total_phenols                 178 non-null    float64\n",
            " 6   flavanoids                    178 non-null    float64\n",
            " 7   nonflavanoid_phenols          178 non-null    float64\n",
            " 8   proanthocyanins               178 non-null    float64\n",
            " 9   color_intensity               178 non-null    float64\n",
            " 10  hue                           178 non-null    float64\n",
            " 11  od280/od315_of_diluted_wines  178 non-null    float64\n",
            " 12  proline                       178 non-null    float64\n",
            " 13  target                        178 non-null    int64  \n",
            "dtypes: float64(13), int64(1)\n",
            "memory usage: 19.6 KB\n",
            "None\n",
            "\n",
            "Scaled Features (First 5 rows):\n",
            "[[ 1.51861254 -0.5622498   0.23205254 -1.16959318  1.91390522  0.80899739\n",
            "   1.03481896 -0.65956311  1.22488398  0.25171685  0.36217728  1.84791957\n",
            "   1.01300893]\n",
            " [ 0.24628963 -0.49941338 -0.82799632 -2.49084714  0.01814502  0.56864766\n",
            "   0.73362894 -0.82071924 -0.54472099 -0.29332133  0.40605066  1.1134493\n",
            "   0.96524152]\n",
            " [ 0.19687903  0.02123125  1.10933436 -0.2687382   0.08835836  0.80899739\n",
            "   1.21553297 -0.49840699  2.13596773  0.26901965  0.31830389  0.78858745\n",
            "   1.39514818]\n",
            " [ 1.69154964 -0.34681064  0.4879264  -0.80925118  0.93091845  2.49144552\n",
            "   1.46652465 -0.98187536  1.03215473  1.18606801 -0.42754369  1.18407144\n",
            "   2.33457383]\n",
            " [ 0.29570023  0.22769377  1.84040254  0.45194578  1.28198515  0.80899739\n",
            "   0.66335127  0.22679555  0.40140444 -0.31927553  0.36217728  0.44960118\n",
            "  -0.03787401]]\n"
          ]
        }
      ]
    },
    {
      "cell_type": "markdown",
      "source": [
        "# Train-Test Split"
      ],
      "metadata": {
        "id": "Lslvlwrl5eJv"
      }
    },
    {
      "cell_type": "code",
      "source": [
        "# Import train_test_split from sklearn\n",
        "from sklearn.model_selection import train_test_split\n",
        "\n",
        "# Split the data into training and testing sets (80% train, 20% test)\n",
        "X_train, X_test, y_train, y_test = train_test_split(X, y, test_size=0.2, random_state=42)\n",
        "\n",
        "# Print shapes to verify the split\n",
        "print(\"\\nTraining Data Shape:\", X_train.shape)\n",
        "print(\"Testing Data Shape:\", X_test.shape)\n"
      ],
      "metadata": {
        "colab": {
          "base_uri": "https://localhost:8080/"
        },
        "id": "9CigfAhW5kWQ",
        "outputId": "d45d5b40-ac87-4d74-d42d-7b263e0bca9f"
      },
      "execution_count": null,
      "outputs": [
        {
          "output_type": "stream",
          "name": "stdout",
          "text": [
            "\n",
            "Training Data Shape: (142, 13)\n",
            "Testing Data Shape: (36, 13)\n"
          ]
        }
      ]
    },
    {
      "cell_type": "markdown",
      "source": [
        "# Model Training"
      ],
      "metadata": {
        "id": "hOLT8gqm6l4x"
      }
    },
    {
      "cell_type": "code",
      "source": [
        "# Import KNeighborsClassifier\n",
        "from sklearn.neighbors import KNeighborsClassifier\n",
        "\n",
        "# Initialize the KNN classifier with n_neighbors=5\n",
        "knn = KNeighborsClassifier(n_neighbors=5)\n",
        "\n",
        "# Train the KNN classifier on the training data\n",
        "knn.fit(X_train, y_train)\n",
        "\n",
        "# Print a message indicating the model has been trained\n",
        "print(\"KNN model has been trained.\")\n"
      ],
      "metadata": {
        "id": "v532k5s86qga",
        "outputId": "3cfbb122-9dbb-4ad5-d1ce-787fca31f319",
        "colab": {
          "base_uri": "https://localhost:8080/"
        }
      },
      "execution_count": null,
      "outputs": [
        {
          "output_type": "stream",
          "name": "stdout",
          "text": [
            "KNN model has been trained.\n"
          ]
        }
      ]
    }
  ]
}